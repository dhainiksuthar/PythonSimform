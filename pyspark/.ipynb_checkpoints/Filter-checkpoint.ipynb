{
 "cells": [
  {
   "cell_type": "code",
   "execution_count": 1,
   "id": "c8be0641",
   "metadata": {},
   "outputs": [
    {
     "name": "stderr",
     "output_type": "stream",
     "text": [
      "23/05/05 10:51:24 WARN Utils: Your hostname, sf-cpu-459 resolves to a loopback address: 127.0.1.1; using 192.168.6.70 instead (on interface eno1)\n",
      "23/05/05 10:51:24 WARN Utils: Set SPARK_LOCAL_IP if you need to bind to another address\n",
      "Setting default log level to \"WARN\".\n",
      "To adjust logging level use sc.setLogLevel(newLevel). For SparkR, use setLogLevel(newLevel).\n",
      "23/05/05 10:51:24 WARN NativeCodeLoader: Unable to load native-hadoop library for your platform... using builtin-java classes where applicable\n",
      "23/05/05 10:51:25 WARN Utils: Service 'SparkUI' could not bind on port 4040. Attempting port 4041.\n"
     ]
    },
    {
     "data": {
      "text/html": [
       "\n",
       "            <div>\n",
       "                <p><b>SparkSession - in-memory</b></p>\n",
       "                \n",
       "        <div>\n",
       "            <p><b>SparkContext</b></p>\n",
       "\n",
       "            <p><a href=\"http://192.168.6.70:4041\">Spark UI</a></p>\n",
       "\n",
       "            <dl>\n",
       "              <dt>Version</dt>\n",
       "                <dd><code>v3.4.0</code></dd>\n",
       "              <dt>Master</dt>\n",
       "                <dd><code>local[*]</code></dd>\n",
       "              <dt>AppName</dt>\n",
       "                <dd><code>Practice</code></dd>\n",
       "            </dl>\n",
       "        </div>\n",
       "        \n",
       "            </div>\n",
       "        "
      ],
      "text/plain": [
       "<pyspark.sql.session.SparkSession at 0x7fa4f48ccd00>"
      ]
     },
     "execution_count": 1,
     "metadata": {},
     "output_type": "execute_result"
    }
   ],
   "source": [
    "from pyspark.sql import SparkSession\n",
    "\n",
    "spark = SparkSession.builder.appName('Practice').getOrCreate()\n",
    "\n",
    "spark"
   ]
  },
  {
   "cell_type": "code",
   "execution_count": 2,
   "id": "fef2b768",
   "metadata": {},
   "outputs": [],
   "source": [
    "df = spark.read.csv('shoppingmall.csv', header=True)"
   ]
  },
  {
   "cell_type": "code",
   "execution_count": 3,
   "id": "21697de5",
   "metadata": {},
   "outputs": [
    {
     "name": "stdout",
     "output_type": "stream",
     "text": [
      "+---+------+----+------+-----+\n",
      "| ID|Gender| Age|Income|Score|\n",
      "+---+------+----+------+-----+\n",
      "|  1|  Male|  19|    15|   39|\n",
      "|  2|  Male|  21|    15|   81|\n",
      "|  3|Female|  20|    16|    6|\n",
      "|  4|Female|  23|    16|   77|\n",
      "|  5|Female|  31|    17|   40|\n",
      "|  6|Female|null|    17|   76|\n",
      "|  7|Female|  35|    18|    6|\n",
      "|  8|  null|  23|  null| null|\n",
      "|  9|  Male|  64|    19|    3|\n",
      "| 10|Female|  30|    19|   72|\n",
      "| 11|  Male|  67|    19|   14|\n",
      "| 12|Female|  35|    19|   99|\n",
      "| 13|  null|null|    20|   15|\n",
      "| 14|Female|  24|    20|   77|\n",
      "| 15|  Male|  37|    20|   13|\n",
      "| 16|  Male|  22|    20|   79|\n",
      "| 17|Female|  35|    21|   35|\n",
      "| 18|  null|null|  null| null|\n",
      "| 19|  Male|  52|    23|   29|\n",
      "| 20|Female|  35|    23|   98|\n",
      "+---+------+----+------+-----+\n",
      "only showing top 20 rows\n",
      "\n"
     ]
    }
   ],
   "source": [
    "df.show()"
   ]
  },
  {
   "cell_type": "code",
   "execution_count": 8,
   "id": "a305ca1f",
   "metadata": {},
   "outputs": [
    {
     "name": "stdout",
     "output_type": "stream",
     "text": [
      "+---+------+---+------+-----+\n",
      "| ID|Gender|Age|Income|Score|\n",
      "+---+------+---+------+-----+\n",
      "|  1|  Male| 19|    15|   39|\n",
      "|  2|  Male| 21|    15|   81|\n",
      "|  3|Female| 20|    16|    6|\n",
      "|  4|Female| 23|    16|   77|\n",
      "|  8|  null| 23|  null| null|\n",
      "| 14|Female| 24|    20|   77|\n",
      "| 16|  Male| 22|    20|   79|\n",
      "| 22|  null| 25|    24|   73|\n",
      "| 32|Female| 21|    30|   73|\n",
      "| 34|  Male| 18|    33|   92|\n",
      "| 36|Female| 21|    33|   81|\n",
      "| 40|Female| 20|    37|   75|\n",
      "| 42|  Male| 24|    38|   92|\n",
      "| 46|Female| 24|    39|   65|\n",
      "| 62|  Male| 19|    46|   55|\n",
      "| 66|  Male| 18|    48|   59|\n",
      "| 69|  Male| 19|    48|   59|\n",
      "| 79|Female| 23|    54|   52|\n",
      "| 85|Female| 21|    54|   57|\n",
      "| 88|Female| 22|    57|   55|\n",
      "+---+------+---+------+-----+\n",
      "only showing top 20 rows\n",
      "\n",
      "+---+------+---+------+-----+\n",
      "| ID|Gender|Age|Income|Score|\n",
      "+---+------+---+------+-----+\n",
      "|  1|  Male| 19|    15|   39|\n",
      "|  2|  Male| 21|    15|   81|\n",
      "|  3|Female| 20|    16|    6|\n",
      "|  4|Female| 23|    16|   77|\n",
      "|  8|  null| 23|  null| null|\n",
      "| 14|Female| 24|    20|   77|\n",
      "| 16|  Male| 22|    20|   79|\n",
      "| 22|  null| 25|    24|   73|\n",
      "| 32|Female| 21|    30|   73|\n",
      "| 34|  Male| 18|    33|   92|\n",
      "| 36|Female| 21|    33|   81|\n",
      "| 40|Female| 20|    37|   75|\n",
      "| 42|  Male| 24|    38|   92|\n",
      "| 46|Female| 24|    39|   65|\n",
      "| 62|  Male| 19|    46|   55|\n",
      "| 66|  Male| 18|    48|   59|\n",
      "| 69|  Male| 19|    48|   59|\n",
      "| 79|Female| 23|    54|   52|\n",
      "| 85|Female| 21|    54|   57|\n",
      "| 88|Female| 22|    57|   55|\n",
      "+---+------+---+------+-----+\n",
      "only showing top 20 rows\n",
      "\n"
     ]
    }
   ],
   "source": [
    "df.filter('Age <= 25').show()\n",
    "\n",
    "df.filter(df['Age'] <= 25).show()"
   ]
  },
  {
   "cell_type": "code",
   "execution_count": 9,
   "id": "b1e55bae",
   "metadata": {},
   "outputs": [
    {
     "name": "stdout",
     "output_type": "stream",
     "text": [
      "+---+------+\n",
      "| ID|Gender|\n",
      "+---+------+\n",
      "|  1|  Male|\n",
      "|  2|  Male|\n",
      "|  3|Female|\n",
      "|  4|Female|\n",
      "|  8|  null|\n",
      "| 14|Female|\n",
      "| 16|  Male|\n",
      "| 22|  null|\n",
      "| 32|Female|\n",
      "| 34|  Male|\n",
      "| 36|Female|\n",
      "| 40|Female|\n",
      "| 42|  Male|\n",
      "| 46|Female|\n",
      "| 62|  Male|\n",
      "| 66|  Male|\n",
      "| 69|  Male|\n",
      "| 79|Female|\n",
      "| 85|Female|\n",
      "| 88|Female|\n",
      "+---+------+\n",
      "only showing top 20 rows\n",
      "\n",
      "+---+------+\n",
      "| ID|Gender|\n",
      "+---+------+\n",
      "|  1|  Male|\n",
      "|  2|  Male|\n",
      "|  3|Female|\n",
      "|  4|Female|\n",
      "|  8|  null|\n",
      "| 14|Female|\n",
      "| 16|  Male|\n",
      "| 22|  null|\n",
      "| 32|Female|\n",
      "| 34|  Male|\n",
      "| 36|Female|\n",
      "| 40|Female|\n",
      "| 42|  Male|\n",
      "| 46|Female|\n",
      "| 62|  Male|\n",
      "| 66|  Male|\n",
      "| 69|  Male|\n",
      "| 79|Female|\n",
      "| 85|Female|\n",
      "| 88|Female|\n",
      "+---+------+\n",
      "only showing top 20 rows\n",
      "\n"
     ]
    }
   ],
   "source": [
    "df.filter('Age <= 25').select(['ID', 'Gender']).show()\n",
    "\n",
    "df.filter(df['Age'] <= 25).select(['ID', 'Gender']).show()"
   ]
  },
  {
   "cell_type": "code",
   "execution_count": 12,
   "id": "d2ca04e4",
   "metadata": {},
   "outputs": [
    {
     "name": "stdout",
     "output_type": "stream",
     "text": [
      "+---+---+------+\n",
      "| ID|Age|Gender|\n",
      "+---+---+------+\n",
      "|  1| 19|  Male|\n",
      "|  2| 21|  Male|\n",
      "|  3| 20|Female|\n",
      "|  4| 23|Female|\n",
      "|  8| 23|  null|\n",
      "| 14| 24|Female|\n",
      "| 16| 22|  Male|\n",
      "| 22| 25|  null|\n",
      "| 32| 21|Female|\n",
      "| 34| 18|  Male|\n",
      "| 36| 21|Female|\n",
      "| 40| 20|Female|\n",
      "| 42| 24|  Male|\n",
      "| 46| 24|Female|\n",
      "| 62| 19|  Male|\n",
      "| 66| 18|  Male|\n",
      "| 69| 19|  Male|\n",
      "| 79| 23|Female|\n",
      "| 85| 21|Female|\n",
      "| 88| 22|Female|\n",
      "+---+---+------+\n",
      "only showing top 20 rows\n",
      "\n"
     ]
    }
   ],
   "source": [
    "df.filter((df['Age'] <= 25) & (df['Age'] >= 15) ).select(['ID', 'Age', 'Gender']).show()"
   ]
  },
  {
   "cell_type": "code",
   "execution_count": 15,
   "id": "274b52b8",
   "metadata": {},
   "outputs": [
    {
     "name": "stdout",
     "output_type": "stream",
     "text": [
      "+---+---+------+\n",
      "| ID|Age|Gender|\n",
      "+---+---+------+\n",
      "|  5| 31|Female|\n",
      "|  7| 35|Female|\n",
      "|  9| 64|  Male|\n",
      "| 10| 30|Female|\n",
      "| 11| 67|  Male|\n",
      "| 12| 35|Female|\n",
      "| 15| 37|  Male|\n",
      "| 17| 35|Female|\n",
      "| 19| 52|  Male|\n",
      "| 20| 35|Female|\n",
      "| 21| 35|  Male|\n",
      "| 24| 31|  Male|\n",
      "| 25| 54|Female|\n",
      "| 26| 29|  Male|\n",
      "| 27| 45|Female|\n",
      "| 29| 40|  null|\n",
      "| 31| 60|  Male|\n",
      "| 33| 53|  Male|\n",
      "| 35| 49|Female|\n",
      "| 37| 42|Female|\n",
      "+---+---+------+\n",
      "only showing top 20 rows\n",
      "\n"
     ]
    }
   ],
   "source": [
    "# Not equals to\n",
    "\n",
    "df.filter(~(df['Age'] <= 25)).select(['ID', 'Age', 'Gender']).show()"
   ]
  },
  {
   "cell_type": "code",
   "execution_count": null,
   "id": "745ce3aa",
   "metadata": {},
   "outputs": [],
   "source": []
  }
 ],
 "metadata": {
  "kernelspec": {
   "display_name": "Python 3 (ipykernel)",
   "language": "python",
   "name": "python3"
  },
  "language_info": {
   "codemirror_mode": {
    "name": "ipython",
    "version": 3
   },
   "file_extension": ".py",
   "mimetype": "text/x-python",
   "name": "python",
   "nbconvert_exporter": "python",
   "pygments_lexer": "ipython3",
   "version": "3.10.9"
  }
 },
 "nbformat": 4,
 "nbformat_minor": 5
}

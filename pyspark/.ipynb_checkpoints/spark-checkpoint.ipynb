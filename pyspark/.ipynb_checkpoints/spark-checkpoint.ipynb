{
 "cells": [
  {
   "cell_type": "code",
   "execution_count": 24,
   "id": "b84b8abd",
   "metadata": {},
   "outputs": [
    {
     "data": {
      "text/html": [
       "\n",
       "            <div>\n",
       "                <p><b>SparkSession - in-memory</b></p>\n",
       "                \n",
       "        <div>\n",
       "            <p><b>SparkContext</b></p>\n",
       "\n",
       "            <p><a href=\"http://192.168.6.70:4040\">Spark UI</a></p>\n",
       "\n",
       "            <dl>\n",
       "              <dt>Version</dt>\n",
       "                <dd><code>v3.4.0</code></dd>\n",
       "              <dt>Master</dt>\n",
       "                <dd><code>local[*]</code></dd>\n",
       "              <dt>AppName</dt>\n",
       "                <dd><code>Practice</code></dd>\n",
       "            </dl>\n",
       "        </div>\n",
       "        \n",
       "            </div>\n",
       "        "
      ],
      "text/plain": [
       "<pyspark.sql.session.SparkSession at 0x7fd194cacd00>"
      ]
     },
     "execution_count": 24,
     "metadata": {},
     "output_type": "execute_result"
    }
   ],
   "source": [
    "from pyspark.sql import SparkSession\n",
    "\n",
    "spark = SparkSession.builder.appName('Practice').getOrCreate()\n",
    "\n",
    "spark"
   ]
  },
  {
   "cell_type": "code",
   "execution_count": 25,
   "id": "4a9bc9c2",
   "metadata": {},
   "outputs": [],
   "source": [
    "# df = spark.read.csv('shoppingmall.csv')\n",
    "\n",
    "df = spark.read.csv('shoppingmall.csv', header=True)\n",
    "\n",
    "# df = spark.read.option('header', 'True').csv('shoppingmall.csv')"
   ]
  },
  {
   "cell_type": "code",
   "execution_count": 45,
   "id": "ddae8fb4",
   "metadata": {},
   "outputs": [
    {
     "name": "stdout",
     "output_type": "stream",
     "text": [
      "+---+------+----+------+-----+\n",
      "| ID|Gender| Age|Income|Score|\n",
      "+---+------+----+------+-----+\n",
      "|  1|  Male|  19|    15|   39|\n",
      "|  2|  Male|  21|    15|   81|\n",
      "|  3|Female|  20|    16|    6|\n",
      "|  4|Female|  23|    16|   77|\n",
      "|  5|Female|  31|    17|   40|\n",
      "|  6|Female|null|    17|   76|\n",
      "|  7|Female|  35|    18|    6|\n",
      "|  8|  null|  23|  null| null|\n",
      "|  9|  Male|  64|    19|    3|\n",
      "| 10|Female|  30|    19|   72|\n",
      "| 11|  Male|  67|    19|   14|\n",
      "| 12|Female|  35|    19|   99|\n",
      "| 13|  null|null|    20|   15|\n",
      "| 14|Female|  24|    20|   77|\n",
      "| 15|  Male|  37|    20|   13|\n",
      "| 16|  Male|  22|    20|   79|\n",
      "| 17|Female|  35|    21|   35|\n",
      "| 18|  null|null|  null| null|\n",
      "| 19|  Male|  52|    23|   29|\n",
      "| 20|Female|  35|    23|   98|\n",
      "+---+------+----+------+-----+\n",
      "only showing top 20 rows\n",
      "\n"
     ]
    }
   ],
   "source": [
    "df.show()"
   ]
  },
  {
   "cell_type": "code",
   "execution_count": 27,
   "id": "537a3326",
   "metadata": {},
   "outputs": [
    {
     "name": "stdout",
     "output_type": "stream",
     "text": [
      "root\n",
      " |-- ID: string (nullable = true)\n",
      " |-- Gender: string (nullable = true)\n",
      " |-- Age: string (nullable = true)\n",
      " |-- Income: string (nullable = true)\n",
      " |-- Score: string (nullable = true)\n",
      "\n"
     ]
    }
   ],
   "source": [
    "df.printSchema()"
   ]
  },
  {
   "cell_type": "code",
   "execution_count": 28,
   "id": "5e690400",
   "metadata": {},
   "outputs": [
    {
     "data": {
      "text/plain": [
       "['ID', 'Gender', 'Age', 'Income', 'Score']"
      ]
     },
     "execution_count": 28,
     "metadata": {},
     "output_type": "execute_result"
    }
   ],
   "source": [
    "df.columns"
   ]
  },
  {
   "cell_type": "code",
   "execution_count": 29,
   "id": "75bdde82",
   "metadata": {},
   "outputs": [
    {
     "data": {
      "text/plain": [
       "[Row(ID='1', Gender='Male', Age='19', Income='15', Score='39'),\n",
       " Row(ID='2', Gender='Male', Age='21', Income='15', Score='81'),\n",
       " Row(ID='3', Gender='Female', Age='20', Income='16', Score='6'),\n",
       " Row(ID='4', Gender='Female', Age='23', Income='16', Score='77'),\n",
       " Row(ID='5', Gender='Female', Age='31', Income='17', Score='40')]"
      ]
     },
     "execution_count": 29,
     "metadata": {},
     "output_type": "execute_result"
    }
   ],
   "source": [
    "df.head(5)"
   ]
  },
  {
   "cell_type": "code",
   "execution_count": 30,
   "id": "dceee5c1",
   "metadata": {},
   "outputs": [
    {
     "data": {
      "text/plain": [
       "DataFrame[Score: string]"
      ]
     },
     "execution_count": 30,
     "metadata": {},
     "output_type": "execute_result"
    }
   ],
   "source": [
    "df.select('Score')"
   ]
  },
  {
   "cell_type": "code",
   "execution_count": 31,
   "id": "5ba9a572",
   "metadata": {},
   "outputs": [
    {
     "name": "stdout",
     "output_type": "stream",
     "text": [
      "+---+----+\n",
      "| ID| Age|\n",
      "+---+----+\n",
      "|  1|  19|\n",
      "|  2|  21|\n",
      "|  3|  20|\n",
      "|  4|  23|\n",
      "|  5|  31|\n",
      "|  6|null|\n",
      "|  7|  35|\n",
      "|  8|  23|\n",
      "|  9|  64|\n",
      "| 10|  30|\n",
      "| 11|  67|\n",
      "| 12|  35|\n",
      "| 13|null|\n",
      "| 14|  24|\n",
      "| 15|  37|\n",
      "| 16|  22|\n",
      "| 17|  35|\n",
      "| 18|null|\n",
      "| 19|  52|\n",
      "| 20|  35|\n",
      "+---+----+\n",
      "only showing top 20 rows\n",
      "\n"
     ]
    }
   ],
   "source": [
    "df.select(['ID', 'Age']).show()"
   ]
  },
  {
   "cell_type": "code",
   "execution_count": 32,
   "id": "62efe2b2",
   "metadata": {},
   "outputs": [
    {
     "data": {
      "text/plain": [
       "Column<'Age'>"
      ]
     },
     "execution_count": 32,
     "metadata": {},
     "output_type": "execute_result"
    }
   ],
   "source": [
    "df['Age']"
   ]
  },
  {
   "cell_type": "code",
   "execution_count": 33,
   "id": "084cee1b",
   "metadata": {},
   "outputs": [
    {
     "data": {
      "text/plain": [
       "[('ID', 'string'),\n",
       " ('Gender', 'string'),\n",
       " ('Age', 'string'),\n",
       " ('Income', 'string'),\n",
       " ('Score', 'string')]"
      ]
     },
     "execution_count": 33,
     "metadata": {},
     "output_type": "execute_result"
    }
   ],
   "source": [
    "df.dtypes"
   ]
  },
  {
   "cell_type": "code",
   "execution_count": 34,
   "id": "07c3ca6a",
   "metadata": {},
   "outputs": [
    {
     "data": {
      "text/plain": [
       "DataFrame[summary: string, ID: string, Gender: string, Age: string, Income: string, Score: string]"
      ]
     },
     "execution_count": 34,
     "metadata": {},
     "output_type": "execute_result"
    }
   ],
   "source": [
    "df.describe()"
   ]
  },
  {
   "cell_type": "code",
   "execution_count": 35,
   "id": "66c3fea2",
   "metadata": {},
   "outputs": [
    {
     "name": "stdout",
     "output_type": "stream",
     "text": [
      "+-------+------------------+------+-----------------+------------------+------------------+\n",
      "|summary|                ID|Gender|              Age|            Income|             Score|\n",
      "+-------+------------------+------+-----------------+------------------+------------------+\n",
      "|  count|               200|   195|              194|               195|               196|\n",
      "|   mean|             100.5|  null|             39.0| 61.49230769230769|49.545918367346935|\n",
      "| stddev|57.879184513951124|  null|13.93991547762454|25.927211599941412| 25.62916875255903|\n",
      "|    min|                 1|Female|               18|               101|                 1|\n",
      "|    max|                99|  Male|               70|                99|                99|\n",
      "+-------+------------------+------+-----------------+------------------+------------------+\n",
      "\n"
     ]
    }
   ],
   "source": [
    "df.describe().show()"
   ]
  },
  {
   "cell_type": "code",
   "execution_count": 36,
   "id": "12a5ecb2",
   "metadata": {},
   "outputs": [],
   "source": [
    "# df.withColumn('Age after 2 years', df['age']+2).show()\n",
    "\n",
    "df = df.withColumn('Age after 2 years', df['age']+2)"
   ]
  },
  {
   "cell_type": "code",
   "execution_count": 37,
   "id": "0541e85a",
   "metadata": {},
   "outputs": [
    {
     "name": "stdout",
     "output_type": "stream",
     "text": [
      "+---+------+----+------+-----+-----------------+\n",
      "| ID|Gender| Age|Income|Score|Age after 2 years|\n",
      "+---+------+----+------+-----+-----------------+\n",
      "|  1|  Male|  19|    15|   39|             21.0|\n",
      "|  2|  Male|  21|    15|   81|             23.0|\n",
      "|  3|Female|  20|    16|    6|             22.0|\n",
      "|  4|Female|  23|    16|   77|             25.0|\n",
      "|  5|Female|  31|    17|   40|             33.0|\n",
      "|  6|Female|null|    17|   76|             null|\n",
      "|  7|Female|  35|    18|    6|             37.0|\n",
      "|  8|  null|  23|  null| null|             25.0|\n",
      "|  9|  Male|  64|    19|    3|             66.0|\n",
      "| 10|Female|  30|    19|   72|             32.0|\n",
      "| 11|  Male|  67|    19|   14|             69.0|\n",
      "| 12|Female|  35|    19|   99|             37.0|\n",
      "| 13|  null|null|    20|   15|             null|\n",
      "| 14|Female|  24|    20|   77|             26.0|\n",
      "| 15|  Male|  37|    20|   13|             39.0|\n",
      "| 16|  Male|  22|    20|   79|             24.0|\n",
      "| 17|Female|  35|    21|   35|             37.0|\n",
      "| 18|  null|null|  null| null|             null|\n",
      "| 19|  Male|  52|    23|   29|             54.0|\n",
      "| 20|Female|  35|    23|   98|             37.0|\n",
      "+---+------+----+------+-----+-----------------+\n",
      "only showing top 20 rows\n",
      "\n"
     ]
    }
   ],
   "source": [
    "df.show()"
   ]
  },
  {
   "cell_type": "code",
   "execution_count": 38,
   "id": "dc104081",
   "metadata": {},
   "outputs": [],
   "source": [
    "df = df.drop('Age after 2 years')"
   ]
  },
  {
   "cell_type": "code",
   "execution_count": 39,
   "id": "64aa9338",
   "metadata": {},
   "outputs": [
    {
     "name": "stdout",
     "output_type": "stream",
     "text": [
      "+---+------+----+------+-----+\n",
      "| ID|Gender| Age|Income|Score|\n",
      "+---+------+----+------+-----+\n",
      "|  1|  Male|  19|    15|   39|\n",
      "|  2|  Male|  21|    15|   81|\n",
      "|  3|Female|  20|    16|    6|\n",
      "|  4|Female|  23|    16|   77|\n",
      "|  5|Female|  31|    17|   40|\n",
      "|  6|Female|null|    17|   76|\n",
      "|  7|Female|  35|    18|    6|\n",
      "|  8|  null|  23|  null| null|\n",
      "|  9|  Male|  64|    19|    3|\n",
      "| 10|Female|  30|    19|   72|\n",
      "| 11|  Male|  67|    19|   14|\n",
      "| 12|Female|  35|    19|   99|\n",
      "| 13|  null|null|    20|   15|\n",
      "| 14|Female|  24|    20|   77|\n",
      "| 15|  Male|  37|    20|   13|\n",
      "| 16|  Male|  22|    20|   79|\n",
      "| 17|Female|  35|    21|   35|\n",
      "| 18|  null|null|  null| null|\n",
      "| 19|  Male|  52|    23|   29|\n",
      "| 20|Female|  35|    23|   98|\n",
      "+---+------+----+------+-----+\n",
      "only showing top 20 rows\n",
      "\n"
     ]
    }
   ],
   "source": [
    "df.show()"
   ]
  },
  {
   "cell_type": "code",
   "execution_count": 40,
   "id": "daceedc9",
   "metadata": {},
   "outputs": [
    {
     "name": "stdout",
     "output_type": "stream",
     "text": [
      "+---+------+----+------+-----+\n",
      "| ID|Gender|Age_|Income|Score|\n",
      "+---+------+----+------+-----+\n",
      "|  1|  Male|  19|    15|   39|\n",
      "|  2|  Male|  21|    15|   81|\n",
      "|  3|Female|  20|    16|    6|\n",
      "|  4|Female|  23|    16|   77|\n",
      "|  5|Female|  31|    17|   40|\n",
      "|  6|Female|null|    17|   76|\n",
      "|  7|Female|  35|    18|    6|\n",
      "|  8|  null|  23|  null| null|\n",
      "|  9|  Male|  64|    19|    3|\n",
      "| 10|Female|  30|    19|   72|\n",
      "| 11|  Male|  67|    19|   14|\n",
      "| 12|Female|  35|    19|   99|\n",
      "| 13|  null|null|    20|   15|\n",
      "| 14|Female|  24|    20|   77|\n",
      "| 15|  Male|  37|    20|   13|\n",
      "| 16|  Male|  22|    20|   79|\n",
      "| 17|Female|  35|    21|   35|\n",
      "| 18|  null|null|  null| null|\n",
      "| 19|  Male|  52|    23|   29|\n",
      "| 20|Female|  35|    23|   98|\n",
      "+---+------+----+------+-----+\n",
      "only showing top 20 rows\n",
      "\n"
     ]
    }
   ],
   "source": [
    "df.withColumnRenamed('Age', 'Age_').show()"
   ]
  },
  {
   "cell_type": "code",
   "execution_count": 41,
   "id": "b69219fd",
   "metadata": {},
   "outputs": [
    {
     "name": "stdout",
     "output_type": "stream",
     "text": [
      "+---+------+---+------+-----+\n",
      "| ID|Gender|Age|Income|Score|\n",
      "+---+------+---+------+-----+\n",
      "|  1|  Male| 19|    15|   39|\n",
      "|  2|  Male| 21|    15|   81|\n",
      "|  3|Female| 20|    16|    6|\n",
      "|  4|Female| 23|    16|   77|\n",
      "|  5|Female| 31|    17|   40|\n",
      "|  7|Female| 35|    18|    6|\n",
      "|  9|  Male| 64|    19|    3|\n",
      "| 10|Female| 30|    19|   72|\n",
      "| 11|  Male| 67|    19|   14|\n",
      "| 12|Female| 35|    19|   99|\n",
      "| 14|Female| 24|    20|   77|\n",
      "| 15|  Male| 37|    20|   13|\n",
      "| 16|  Male| 22|    20|   79|\n",
      "| 17|Female| 35|    21|   35|\n",
      "| 19|  Male| 52|    23|   29|\n",
      "| 20|Female| 35|    23|   98|\n",
      "| 21|  Male| 35|    24|   35|\n",
      "| 25|Female| 54|    28|   14|\n",
      "| 31|  Male| 60|    30|    4|\n",
      "| 32|Female| 21|    30|   73|\n",
      "+---+------+---+------+-----+\n",
      "only showing top 20 rows\n",
      "\n"
     ]
    }
   ],
   "source": [
    "# Remove rows that have null value\n",
    "\n",
    "df.na.drop().show()"
   ]
  },
  {
   "cell_type": "code",
   "execution_count": 42,
   "id": "7d8eee2b",
   "metadata": {},
   "outputs": [
    {
     "name": "stdout",
     "output_type": "stream",
     "text": [
      "+---+\n",
      "|Age|\n",
      "+---+\n",
      "| 19|\n",
      "| 21|\n",
      "| 20|\n",
      "| 23|\n",
      "| 31|\n",
      "| 35|\n",
      "| 23|\n",
      "| 64|\n",
      "| 30|\n",
      "| 67|\n",
      "| 35|\n",
      "| 24|\n",
      "| 37|\n",
      "| 22|\n",
      "| 35|\n",
      "| 52|\n",
      "| 35|\n",
      "| 35|\n",
      "| 25|\n",
      "| 31|\n",
      "+---+\n",
      "only showing top 20 rows\n",
      "\n"
     ]
    }
   ],
   "source": [
    "df.select('Age').na.drop().show()"
   ]
  },
  {
   "cell_type": "code",
   "execution_count": 43,
   "id": "8e65cfeb",
   "metadata": {},
   "outputs": [
    {
     "name": "stdout",
     "output_type": "stream",
     "text": [
      "+---+------+---+------+-----+\n",
      "| ID|Gender|Age|Income|Score|\n",
      "+---+------+---+------+-----+\n",
      "|  1|  Male| 19|    15|   39|\n",
      "|  2|  Male| 21|    15|   81|\n",
      "|  3|Female| 20|    16|    6|\n",
      "|  4|Female| 23|    16|   77|\n",
      "|  5|Female| 31|    17|   40|\n",
      "|  7|Female| 35|    18|    6|\n",
      "|  9|  Male| 64|    19|    3|\n",
      "| 10|Female| 30|    19|   72|\n",
      "| 11|  Male| 67|    19|   14|\n",
      "| 12|Female| 35|    19|   99|\n",
      "| 14|Female| 24|    20|   77|\n",
      "| 15|  Male| 37|    20|   13|\n",
      "| 16|  Male| 22|    20|   79|\n",
      "| 17|Female| 35|    21|   35|\n",
      "| 19|  Male| 52|    23|   29|\n",
      "| 20|Female| 35|    23|   98|\n",
      "| 21|  Male| 35|    24|   35|\n",
      "| 25|Female| 54|    28|   14|\n",
      "| 31|  Male| 60|    30|    4|\n",
      "| 32|Female| 21|    30|   73|\n",
      "+---+------+---+------+-----+\n",
      "only showing top 20 rows\n",
      "\n"
     ]
    }
   ],
   "source": [
    "# Drop rows if it containes null vale\n",
    "df.na.drop().show()"
   ]
  },
  {
   "cell_type": "code",
   "execution_count": 47,
   "id": "a14e2367",
   "metadata": {},
   "outputs": [
    {
     "name": "stdout",
     "output_type": "stream",
     "text": [
      "+---+------+----+------+-----+\n",
      "| ID|Gender| Age|Income|Score|\n",
      "+---+------+----+------+-----+\n",
      "|  1|  Male|  19|    15|   39|\n",
      "|  2|  Male|  21|    15|   81|\n",
      "|  3|Female|  20|    16|    6|\n",
      "|  4|Female|  23|    16|   77|\n",
      "|  5|Female|  31|    17|   40|\n",
      "|  6|Female|null|    17|   76|\n",
      "|  7|Female|  35|    18|    6|\n",
      "|  8|  null|  23|  null| null|\n",
      "|  9|  Male|  64|    19|    3|\n",
      "| 10|Female|  30|    19|   72|\n",
      "| 11|  Male|  67|    19|   14|\n",
      "| 12|Female|  35|    19|   99|\n",
      "| 13|  null|null|    20|   15|\n",
      "| 14|Female|  24|    20|   77|\n",
      "| 15|  Male|  37|    20|   13|\n",
      "| 16|  Male|  22|    20|   79|\n",
      "| 17|Female|  35|    21|   35|\n",
      "| 18|  null|null|  null| null|\n",
      "| 19|  Male|  52|    23|   29|\n",
      "| 20|Female|  35|    23|   98|\n",
      "+---+------+----+------+-----+\n",
      "only showing top 20 rows\n",
      "\n"
     ]
    }
   ],
   "source": [
    "# Drop row if it contains all null values\n",
    "df.na.drop(how='all').show()"
   ]
  },
  {
   "cell_type": "code",
   "execution_count": 51,
   "id": "0aac7578",
   "metadata": {},
   "outputs": [
    {
     "name": "stdout",
     "output_type": "stream",
     "text": [
      "+---+------+----+------+-----+\n",
      "| ID|Gender| Age|Income|Score|\n",
      "+---+------+----+------+-----+\n",
      "|  1|  Male|  19|    15|   39|\n",
      "|  2|  Male|  21|    15|   81|\n",
      "|  3|Female|  20|    16|    6|\n",
      "|  4|Female|  23|    16|   77|\n",
      "|  5|Female|  31|    17|   40|\n",
      "|  6|Female|null|    17|   76|\n",
      "|  7|Female|  35|    18|    6|\n",
      "|  8|  null|  23|  null| null|\n",
      "|  9|  Male|  64|    19|    3|\n",
      "| 10|Female|  30|    19|   72|\n",
      "| 11|  Male|  67|    19|   14|\n",
      "| 12|Female|  35|    19|   99|\n",
      "| 13|  null|null|    20|   15|\n",
      "| 14|Female|  24|    20|   77|\n",
      "| 15|  Male|  37|    20|   13|\n",
      "| 16|  Male|  22|    20|   79|\n",
      "| 17|Female|  35|    21|   35|\n",
      "| 18|  null|null|  null| null|\n",
      "| 19|  Male|  52|    23|   29|\n",
      "| 20|Female|  35|    23|   98|\n",
      "+---+------+----+------+-----+\n",
      "only showing top 20 rows\n",
      "\n"
     ]
    }
   ],
   "source": [
    "# Atleast two non null value should be there if not then row will be deleted\n",
    "df.na.drop(thresh = 1).show()"
   ]
  },
  {
   "cell_type": "code",
   "execution_count": 23,
   "id": "3ca1c318",
   "metadata": {},
   "outputs": [
    {
     "name": "stdout",
     "output_type": "stream",
     "text": [
      "+---+------+---+------+-----+\n",
      "| ID|Gender|Age|Income|Score|\n",
      "+---+------+---+------+-----+\n",
      "|  1|  Male| 19|    15|   39|\n",
      "|  2|  Male| 21|    15|   81|\n",
      "|  3|Female| 20|    16|    6|\n",
      "|  4|Female| 23|    16|   77|\n",
      "|  5|Female| 31|    17|   40|\n",
      "|  6|Female| 22|    17|   76|\n",
      "|  7|Female| 35|    18|    6|\n",
      "|  8|Female| 23|    18|   94|\n",
      "|  9|  Male| 64|    19|    3|\n",
      "| 10|Female| 30|    19|   72|\n",
      "| 11|  Male| 67|    19|   14|\n",
      "| 12|Female| 35|    19|   99|\n",
      "| 13|Female| 58|    20|   15|\n",
      "| 14|Female| 24|    20|   77|\n",
      "| 15|  Male| 37|    20|   13|\n",
      "| 16|  Male| 22|    20|   79|\n",
      "| 17|Female| 35|    21|   35|\n",
      "| 18|  Male| 20|    21|   66|\n",
      "| 19|  Male| 52|    23|   29|\n",
      "| 20|Female| 35|    23|   98|\n",
      "+---+------+---+------+-----+\n",
      "only showing top 20 rows\n",
      "\n"
     ]
    }
   ],
   "source": [
    "# delete only if column exists in subset and have null value\n",
    "df.na.drop(how = 'any', subset = ['Age']).show()"
   ]
  },
  {
   "cell_type": "code",
   "execution_count": 53,
   "id": "3938d227",
   "metadata": {},
   "outputs": [
    {
     "name": "stdout",
     "output_type": "stream",
     "text": [
      "+---+--------------+----+------+-----+\n",
      "| ID|        Gender| Age|Income|Score|\n",
      "+---+--------------+----+------+-----+\n",
      "|  1|          Male|  19|    15|   39|\n",
      "|  2|          Male|  21|    15|   81|\n",
      "|  3|        Female|  20|    16|    6|\n",
      "|  4|        Female|  23|    16|   77|\n",
      "|  5|        Female|  31|    17|   40|\n",
      "|  6|        Female|null|    17|   76|\n",
      "|  7|        Female|  35|    18|    6|\n",
      "|  8|Missing Values|  23|  null| null|\n",
      "|  9|          Male|  64|    19|    3|\n",
      "| 10|        Female|  30|    19|   72|\n",
      "| 11|          Male|  67|    19|   14|\n",
      "| 12|        Female|  35|    19|   99|\n",
      "| 13|Missing Values|null|    20|   15|\n",
      "| 14|        Female|  24|    20|   77|\n",
      "| 15|          Male|  37|    20|   13|\n",
      "| 16|          Male|  22|    20|   79|\n",
      "| 17|        Female|  35|    21|   35|\n",
      "| 18|Missing Values|null|  null| null|\n",
      "| 19|          Male|  52|    23|   29|\n",
      "| 20|        Female|  35|    23|   98|\n",
      "+---+--------------+----+------+-----+\n",
      "only showing top 20 rows\n",
      "\n"
     ]
    }
   ],
   "source": [
    "df.na.fill('Missing Values', ['Gender']).show()"
   ]
  },
  {
   "cell_type": "markdown",
   "id": "d6e08e47",
   "metadata": {},
   "source": [
    "# Convert String to Int"
   ]
  },
  {
   "cell_type": "code",
   "execution_count": 64,
   "id": "6ec1a55a",
   "metadata": {},
   "outputs": [],
   "source": [
    "from pyspark.sql.types import IntegerType\n",
    "\n",
    "df = df.withColumn(\"Age\", df[\"Age\"].cast(IntegerType()))\n",
    "df = df.withColumn(\"Income\", df[\"Income\"].cast(IntegerType()))"
   ]
  },
  {
   "cell_type": "markdown",
   "id": "69e18174",
   "metadata": {},
   "source": [
    "# Fill null values with mean"
   ]
  },
  {
   "cell_type": "code",
   "execution_count": 65,
   "id": "4c89633a",
   "metadata": {},
   "outputs": [
    {
     "name": "stdout",
     "output_type": "stream",
     "text": [
      "+---+------+----+------+-----+----+-------+\n",
      "| ID|Gender| Age|Income|Score|Age_|Income_|\n",
      "+---+------+----+------+-----+----+-------+\n",
      "|  1|  Male|  19|    15|   39|  19|     15|\n",
      "|  2|  Male|  21|    15|   81|  21|     15|\n",
      "|  3|Female|  20|    16|    6|  20|     16|\n",
      "|  4|Female|  23|    16|   77|  23|     16|\n",
      "|  5|Female|  31|    17|   40|  31|     17|\n",
      "|  6|Female|null|    17|   76|  39|     17|\n",
      "|  7|Female|  35|    18|    6|  35|     18|\n",
      "|  8|  null|  23|  null| null|  23|     61|\n",
      "|  9|  Male|  64|    19|    3|  64|     19|\n",
      "| 10|Female|  30|    19|   72|  30|     19|\n",
      "| 11|  Male|  67|    19|   14|  67|     19|\n",
      "| 12|Female|  35|    19|   99|  35|     19|\n",
      "| 13|  null|null|    20|   15|  39|     20|\n",
      "| 14|Female|  24|    20|   77|  24|     20|\n",
      "| 15|  Male|  37|    20|   13|  37|     20|\n",
      "| 16|  Male|  22|    20|   79|  22|     20|\n",
      "| 17|Female|  35|    21|   35|  35|     21|\n",
      "| 18|  null|null|  null| null|  39|     61|\n",
      "| 19|  Male|  52|    23|   29|  52|     23|\n",
      "| 20|Female|  35|    23|   98|  35|     23|\n",
      "+---+------+----+------+-----+----+-------+\n",
      "only showing top 20 rows\n",
      "\n"
     ]
    }
   ],
   "source": [
    "from pyspark.ml.feature import Imputer\n",
    "\n",
    "imputer = Imputer(\n",
    "    inputCols = ['Age', 'Income'],\n",
    "    outputCols = ['Age_', 'Income_'],\n",
    "    strategy = 'mean'\n",
    ")\n",
    "\n",
    "model = imputer.fit(df)\n",
    "model.transform(df).show()"
   ]
  },
  {
   "cell_type": "code",
   "execution_count": null,
   "id": "62d5564e",
   "metadata": {},
   "outputs": [],
   "source": []
  }
 ],
 "metadata": {
  "kernelspec": {
   "display_name": "Python 3 (ipykernel)",
   "language": "python",
   "name": "python3"
  },
  "language_info": {
   "codemirror_mode": {
    "name": "ipython",
    "version": 3
   },
   "file_extension": ".py",
   "mimetype": "text/x-python",
   "name": "python",
   "nbconvert_exporter": "python",
   "pygments_lexer": "ipython3",
   "version": "3.10.9"
  }
 },
 "nbformat": 4,
 "nbformat_minor": 5
}
